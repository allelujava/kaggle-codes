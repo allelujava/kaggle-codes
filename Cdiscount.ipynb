{
 "cells": [
  {
   "cell_type": "code",
   "execution_count": 1,
   "metadata": {},
   "outputs": [
    {
     "name": "stdout",
     "output_type": "stream",
     "text": [
      "test.bson\n",
      "train.bson\n",
      "\n"
     ]
    }
   ],
   "source": [
    "import numpy as np # linear algebra\n",
    "import pandas as pd # data processing, CSV file I/O (e.g. pd.read_csv)\n",
    "\n",
    "from subprocess import check_output\n",
    "print(check_output([\"ls\", \"/mnt/Cdiscount\"]).decode(\"utf8\"))"
   ]
  },
  {
   "cell_type": "code",
   "execution_count": 2,
   "metadata": {},
   "outputs": [],
   "source": [
    "import io\n",
    "import bson                       # this is installed with the pymongo package\n",
    "import matplotlib.pyplot as plt\n",
    "from skimage.data import imread   # or, whatever image library you prefer\n",
    "from skimage import transform\n",
    "import multiprocessing as mp      # will come in handy due to the size of the data\n",
    "import random\n",
    "\n",
    "%matplotlib inline\n",
    "\n",
    "PIX = 192\n",
    "\n",
    "def transform_image(pic_data):\n",
    "    picture = imread(io.BytesIO(pic_data))\n",
    "    img = transform.resize(picture, (PIX, PIX))\n",
    "    return img"
   ]
  },
  {
   "cell_type": "code",
   "execution_count": 3,
   "metadata": {},
   "outputs": [],
   "source": [
    "def get_category_dict():\n",
    "    category = pd.read_csv('Cdiscount/category_names.csv')\n",
    "    mp = dict()\n",
    "    C = category.shape[0]\n",
    "    for i in range(C):\n",
    "        mp[category[\"category_id\"][i]] = i\n",
    "    return mp\n",
    "\n",
    "category_dict = get_category_dict()\n",
    "num_classes = len(category_dict)"
   ]
  },
  {
   "cell_type": "code",
   "execution_count": 4,
   "metadata": {},
   "outputs": [],
   "source": [
    "import tensorflow as tf\n",
    "\n",
    "import models.resnet as resnet\n",
    "\n",
    "with tf.device('/gpu:0'):\n",
    "    x = tf.placeholder(tf.float32, shape=(None, PIX, PIX, 3))\n",
    "    y_real = tf.placeholder(tf.float32, shape=(None, num_classes))\n",
    "\n",
    "    y_net = resnet.inference(x, True, num_classes, [3, 4, 4, 6, 3])\n",
    "\n",
    "    cross_entropy = tf.reduce_mean(\n",
    "        tf.nn.softmax_cross_entropy_with_logits(labels=y_real, logits=y_net))\n",
    "    \n",
    "    regularization_losses = tf.get_collection(tf.GraphKeys.REGULARIZATION_LOSSES)\n",
    "\n",
    "    loss = tf.add_n([cross_entropy] + regularization_losses)\n",
    "    tf.summary.scalar('loss', loss)\n",
    "    \n",
    "    train_step = tf.train.AdamOptimizer(1e-5, name='adam2').minimize(loss)\n",
    "    correct_prediction = tf.equal(tf.argmax(y_net, 1), tf.argmax(y_real, 1))\n",
    "    accuracy = tf.reduce_mean(tf.cast(correct_prediction, tf.float32))\n"
   ]
  },
  {
   "cell_type": "code",
   "execution_count": 5,
   "metadata": {},
   "outputs": [],
   "source": [
    "sess = tf.InteractiveSession(config=tf.ConfigProto(log_device_placement=True))\n",
    "\n",
    "sess.run(tf.global_variables_initializer())\n",
    "\n",
    "writer = tf.summary.FileWriter(\"graph/Cdiscount\")\n",
    "writer.add_graph(sess.graph)"
   ]
  },
  {
   "cell_type": "code",
   "execution_count": 6,
   "metadata": {},
   "outputs": [
    {
     "name": "stderr",
     "output_type": "stream",
     "text": [
      "/usr/local/lib/python3.5/dist-packages/skimage/transform/_warps.py:84: UserWarning: The default mode, 'constant', will be changed to 'reflect' in skimage 0.15.\n",
      "  warn(\"The default mode, 'constant', will be changed to 'reflect' in \"\n"
     ]
    },
    {
     "name": "stdout",
     "output_type": "stream",
     "text": [
      "CPU times: user 3min 24s, sys: 6min 40s, total: 10min 4s\n",
      "Wall time: 4min 13s\n"
     ]
    }
   ],
   "source": [
    "# scan dataset and generate testing set\n",
    "\n",
    "def generate_teseting_set(filename = '/mnt/Cdiscount/train.bson'):\n",
    "    data = bson.decode_file_iter(open(filename, 'rb'))\n",
    "    test_img_list = list()\n",
    "    test_lab_list = list()\n",
    "    test_ids = set()\n",
    "    for c, d in enumerate(data):\n",
    "        if random.random() > 1 / 700.0:\n",
    "            continue\n",
    "        product_id = d['_id']\n",
    "        test_ids.add(product_id)\n",
    "        category_id = d['category_id']\n",
    "        for e, pic in enumerate(d['imgs']):\n",
    "            img_data = transform_image(pic['picture'])\n",
    "            test_img_list.append(img_data)\n",
    "            test_lab_list.append(category_dict[category_id])\n",
    "    test_img = np.ndarray((len(test_img_list), PIX, PIX, 3), buffer=np.asarray(test_img_list), dtype = float)\n",
    "    test_lab = np.ndarray((len(test_lab_list),), buffer=np.asarray(test_lab_list), dtype = int)\n",
    "    return test_ids, test_img, test_lab\n",
    "\n",
    "%time test_ids, test_img, test_lab = generate_teseting_set()"
   ]
  },
  {
   "cell_type": "code",
   "execution_count": 7,
   "metadata": {},
   "outputs": [
    {
     "name": "stdout",
     "output_type": "stream",
     "text": [
      "10211\n",
      "(17889, 192, 192, 3)\n",
      "(17889,)\n"
     ]
    }
   ],
   "source": [
    "print(len(test_ids))\n",
    "print(test_img.shape)\n",
    "print(test_lab.shape)"
   ]
  },
  {
   "cell_type": "code",
   "execution_count": 8,
   "metadata": {},
   "outputs": [],
   "source": [
    "# define next function\n",
    "\n",
    "iter_counter = 1\n",
    "\n",
    "def get_train_data_iter():\n",
    "    global iter_counter\n",
    "    data = bson.decode_file_iter(open('/mnt/Cdiscount/train.bson', 'rb'))\n",
    "    for c, d in enumerate(data):\n",
    "        product_id = d['_id']\n",
    "        if product_id in test_ids:\n",
    "            continue\n",
    "        category_id = d['category_id']\n",
    "        for e, pic in enumerate(d['imgs']):\n",
    "            img_data = transform_image(pic['picture'])\n",
    "            yield img_data, category_dict[category_id]\n",
    "    iter_counter += 1\n",
    "        \n",
    "train_iter = get_train_data_iter()\n",
    "\n",
    "INIT_OUTS = [0] * num_classes\n",
    "        \n",
    "def next_batch(bsize = 50):\n",
    "    global train_iter\n",
    "    global INIT_OUTS\n",
    "    batch_img_list = list()\n",
    "    batch_out_list = list()\n",
    "    for _ in range(bsize):\n",
    "        try:\n",
    "            img, lab = next(train_iter)\n",
    "        except StopIteration:\n",
    "            train_iter = get_train_data_iter()\n",
    "            img, lab = next(train_iter)\n",
    "        batch_img_list.append(img)\n",
    "        out = np.asarray(INIT_OUTS, dtype = float)\n",
    "        out[lab] = 1\n",
    "        batch_out_list.append(out)\n",
    "    batch_img = np.ndarray((bsize, PIX, PIX, 3), buffer=np.asarray(batch_img_list), dtype = float)\n",
    "    batch_out = np.ndarray((bsize, num_classes), buffer=np.asarray(batch_out_list), dtype = float)\n",
    "    return batch_img, batch_out"
   ]
  },
  {
   "cell_type": "code",
   "execution_count": null,
   "metadata": {},
   "outputs": [
    {
     "name": "stderr",
     "output_type": "stream",
     "text": [
      "/usr/local/lib/python3.5/dist-packages/skimage/transform/_warps.py:84: UserWarning: The default mode, 'constant', will be changed to 'reflect' in skimage 0.15.\n",
      "  warn(\"The default mode, 'constant', will be changed to 'reflect' in \"\n"
     ]
    },
    {
     "name": "stdout",
     "output_type": "stream",
     "text": [
      "iter 1, step 0, training accuracy 0, loss 9.13307\n",
      "iter 1, step 100, training accuracy 0.33, loss 5.08502\n",
      "iter 1, step 200, training accuracy 0.39, loss 3.99466\n",
      "iter 1, step 300, training accuracy 0.29, loss 4.23586\n",
      "iter 1, step 400, training accuracy 0.4, loss 3.98883\n",
      "iter 1, step 500, training accuracy 0.24, loss 4.41513\n",
      "iter 1, step 600, training accuracy 0.34, loss 3.80815\n",
      "iter 1, step 700, training accuracy 0.18, loss 5.79314\n",
      "iter 1, step 800, training accuracy 0.11, loss 5.8539\n",
      "iter 1, step 900, training accuracy 0.17, loss 5.85073\n",
      "iter 1, step 1000, training accuracy 0.29, loss 5.11782\n",
      "iter 1, step 1100, training accuracy 0.22, loss 5.67394\n",
      "iter 1, step 1200, training accuracy 0.31, loss 4.97434\n",
      "iter 1, step 1300, training accuracy 0.12, loss 6.69148\n",
      "iter 1, step 1400, training accuracy 0.26, loss 6.03504\n",
      "iter 1, step 1500, training accuracy 0.11, loss 5.84774\n",
      "iter 1, step 1600, training accuracy 0.09, loss 6.67964\n",
      "iter 1, step 1700, training accuracy 0.03, loss 6.6357\n",
      "iter 1, step 1800, training accuracy 0.07, loss 6.39176\n",
      "iter 1, step 1900, training accuracy 0.12, loss 6.64667\n",
      "iter 1, step 2000, training accuracy 0.13, loss 5.65206\n",
      "iter 1, step 2100, training accuracy 0.04, loss 5.89032\n",
      "iter 1, step 2200, training accuracy 0.16, loss 5.78291\n",
      "iter 1, step 2300, training accuracy 0.03, loss 6.49212\n",
      "iter 1, step 2400, training accuracy 0.13, loss 6.2489\n",
      "iter 1, step 2500, training accuracy 0.16, loss 5.866\n",
      "iter 1, step 2600, training accuracy 0.16, loss 6.06665\n",
      "iter 1, step 2700, training accuracy 0.16, loss 5.75295\n",
      "iter 1, step 2800, training accuracy 0.1, loss 5.85442\n",
      "iter 1, step 2900, training accuracy 0.17, loss 5.63399\n",
      "iter 1, step 3000, training accuracy 0.2, loss 5.53656\n",
      "iter 1, step 3100, training accuracy 0.12, loss 6.22504\n",
      "iter 1, step 3200, training accuracy 0.16, loss 6.07669\n",
      "iter 1, step 3300, training accuracy 0.06, loss 6.432\n",
      "iter 1, step 3400, training accuracy 0.2, loss 5.27049\n",
      "iter 1, step 3500, training accuracy 0.06, loss 6.42956\n",
      "iter 1, step 3600, training accuracy 0.13, loss 6.38448\n",
      "iter 1, step 3700, training accuracy 0.07, loss 6.44733\n",
      "iter 1, step 3800, training accuracy 0.14, loss 5.14933\n",
      "iter 1, step 3900, training accuracy 0.16, loss 5.23316\n",
      "iter 1, step 4000, training accuracy 0.14, loss 6.04192\n",
      "iter 1, step 4100, training accuracy 0.07, loss 6.8435\n",
      "iter 1, step 4200, training accuracy 0.19, loss 5.52393\n",
      "iter 1, step 4300, training accuracy 0.07, loss 6.11762\n",
      "iter 1, step 4400, training accuracy 0.06, loss 5.83628\n",
      "iter 1, step 4500, training accuracy 0.12, loss 6.24329\n",
      "iter 1, step 4600, training accuracy 0.18, loss 5.93648\n",
      "iter 1, step 4700, training accuracy 0.03, loss 6.51627\n",
      "iter 1, step 4800, training accuracy 0.14, loss 5.85835\n",
      "iter 1, step 4900, training accuracy 0.09, loss 6.24768\n",
      "iter 1, step 5000, training accuracy 0.12, loss 5.69804\n",
      "iter 1, step 5100, training accuracy 0.15, loss 5.28172\n",
      "iter 1, step 5200, training accuracy 0.15, loss 6.22881\n",
      "iter 1, step 5300, training accuracy 0.15, loss 6.01095\n",
      "iter 1, step 5400, training accuracy 0.14, loss 6.23785\n",
      "iter 1, step 5500, training accuracy 0.2, loss 5.66384\n",
      "iter 1, step 5600, training accuracy 0.04, loss 6.3216\n"
     ]
    }
   ],
   "source": [
    "import sys\n",
    "\n",
    "for i in range(sys.maxsize):\n",
    "    img, lab = next_batch(100)\n",
    "    _, loss_value = sess.run([train_step, cross_entropy],\n",
    "                             feed_dict={x: img, y_real: lab})\n",
    "    if i % 100 == 0:\n",
    "        train_accuracy = accuracy.eval(feed_dict={x: img, y_real: lab})\n",
    "        print('iter %d, step %d, training accuracy %g, loss %g'\n",
    "              % (iter_counter, i, train_accuracy, loss_value))"
   ]
  }
 ],
 "metadata": {
  "kernelspec": {
   "display_name": "Python 3",
   "language": "python",
   "name": "python3"
  },
  "language_info": {
   "codemirror_mode": {
    "name": "ipython",
    "version": 3
   },
   "file_extension": ".py",
   "mimetype": "text/x-python",
   "name": "python",
   "nbconvert_exporter": "python",
   "pygments_lexer": "ipython3",
   "version": "3.5.2"
  }
 },
 "nbformat": 4,
 "nbformat_minor": 2
}
